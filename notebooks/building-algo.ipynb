{
 "cells": [
  {
   "cell_type": "code",
   "execution_count": 2,
   "metadata": {},
   "outputs": [
    {
     "name": "stderr",
     "output_type": "stream",
     "text": [
      "c:\\Users\\merii\\anaconda3\\lib\\site-packages\\pandas\\core\\computation\\expressions.py:20: UserWarning: Pandas requires version '2.7.3' or newer of 'numexpr' (version '2.7.1' currently installed).\n",
      "  from pandas.core.computation.check import NUMEXPR_INSTALLED\n"
     ]
    }
   ],
   "source": [
    "import pandas as pd\n",
    "import altair as alt\n",
    "import numpy as np"
   ]
  },
  {
   "cell_type": "code",
   "execution_count": 4,
   "metadata": {},
   "outputs": [],
   "source": [
    "df = pd.read_excel('../data/Marina_ciclo2.xlsx', engine = 'openpyxl' )"
   ]
  },
  {
   "cell_type": "code",
   "execution_count": 7,
   "metadata": {},
   "outputs": [],
   "source": [
    "df['Max_Last_Six'] = df['Temperatura'].rolling(window=6, min_periods=6).apply(lambda x: x[:-1].max())\n",
    "\n",
    "mask = (df['Temperatura'] >= df['Max_Last_Six']) & ~(df['Temperatura'].shift(1) >= df['Max_Last_Six'].shift(1))\n",
    "\n",
    "# Find the index of the first occurrence\n",
    "first_occurrence_index = mask.idxmax()\n",
    "\n",
    "# Set all values to False except for the first occurrence\n",
    "df['First_Over_Max_Last_Six'] = False\n",
    "df.loc[first_occurrence_index, 'First_Over_Max_Last_Six'] = True\n",
    "\n",
    "# Get that temperature\n",
    "baseline = df[df.First_Over_Max_Last_Six == True].Max_Last_Six.iloc[0]\n",
    "if np.isnan(baseline):\n",
    "    baseline=40\n",
    "\n",
    "df['baseline'] = baseline\n",
    "\n",
    "\n",
    "# Check the next three temperatures are higher than that value\n",
    "df['higher_baseline']=df.apply(lambda x: ((x.Temperatura >= x.baseline+0.1)), axis=1)\n",
    "\n",
    "df['days_higher_than_baseline'] = df['higher_baseline'].rolling(window=3, min_periods = 1).sum()\n",
    "\n",
    "# confirm ovulation\n",
    "df['ovulation_confirmed'] = False\n",
    "mask_ovulation = ((df.ovulation_confirmed == False) & (df.days_higher_than_baseline==3))\n",
    "first_occurrence_ovulation = mask_ovulation.idxmax()\n",
    "df.loc[first_occurrence_ovulation::, 'ovulation_confirmed'] = True\n",
    "\n",
    "if df.loc[0, 'ovulation_confirmed']:\n",
    "    df.loc[0, 'ovulation_confirmed'] = False"
   ]
  },
  {
   "cell_type": "code",
   "execution_count": 12,
   "metadata": {},
   "outputs": [
    {
     "data": {
      "text/html": [
       "\n",
       "<style>\n",
       "  #altair-viz-271464ec3f4d4ce1889cdb51846ba55c.vega-embed {\n",
       "    width: 100%;\n",
       "    display: flex;\n",
       "  }\n",
       "\n",
       "  #altair-viz-271464ec3f4d4ce1889cdb51846ba55c.vega-embed details,\n",
       "  #altair-viz-271464ec3f4d4ce1889cdb51846ba55c.vega-embed details summary {\n",
       "    position: relative;\n",
       "  }\n",
       "</style>\n",
       "<div id=\"altair-viz-271464ec3f4d4ce1889cdb51846ba55c\"></div>\n",
       "<script type=\"text/javascript\">\n",
       "  var VEGA_DEBUG = (typeof VEGA_DEBUG == \"undefined\") ? {} : VEGA_DEBUG;\n",
       "  (function(spec, embedOpt){\n",
       "    let outputDiv = document.currentScript.previousElementSibling;\n",
       "    if (outputDiv.id !== \"altair-viz-271464ec3f4d4ce1889cdb51846ba55c\") {\n",
       "      outputDiv = document.getElementById(\"altair-viz-271464ec3f4d4ce1889cdb51846ba55c\");\n",
       "    }\n",
       "    const paths = {\n",
       "      \"vega\": \"https://cdn.jsdelivr.net/npm/vega@5?noext\",\n",
       "      \"vega-lib\": \"https://cdn.jsdelivr.net/npm/vega-lib?noext\",\n",
       "      \"vega-lite\": \"https://cdn.jsdelivr.net/npm/vega-lite@5.16.3?noext\",\n",
       "      \"vega-embed\": \"https://cdn.jsdelivr.net/npm/vega-embed@6?noext\",\n",
       "    };\n",
       "\n",
       "    function maybeLoadScript(lib, version) {\n",
       "      var key = `${lib.replace(\"-\", \"\")}_version`;\n",
       "      return (VEGA_DEBUG[key] == version) ?\n",
       "        Promise.resolve(paths[lib]) :\n",
       "        new Promise(function(resolve, reject) {\n",
       "          var s = document.createElement('script');\n",
       "          document.getElementsByTagName(\"head\")[0].appendChild(s);\n",
       "          s.async = true;\n",
       "          s.onload = () => {\n",
       "            VEGA_DEBUG[key] = version;\n",
       "            return resolve(paths[lib]);\n",
       "          };\n",
       "          s.onerror = () => reject(`Error loading script: ${paths[lib]}`);\n",
       "          s.src = paths[lib];\n",
       "        });\n",
       "    }\n",
       "\n",
       "    function showError(err) {\n",
       "      outputDiv.innerHTML = `<div class=\"error\" style=\"color:red;\">${err}</div>`;\n",
       "      throw err;\n",
       "    }\n",
       "\n",
       "    function displayChart(vegaEmbed) {\n",
       "      vegaEmbed(outputDiv, spec, embedOpt)\n",
       "        .catch(err => showError(`Javascript Error: ${err.message}<br>This usually means there's a typo in your chart specification. See the javascript console for the full traceback.`));\n",
       "    }\n",
       "\n",
       "    if(typeof define === \"function\" && define.amd) {\n",
       "      requirejs.config({paths});\n",
       "      require([\"vega-embed\"], displayChart, err => showError(`Error loading script: ${err.message}`));\n",
       "    } else {\n",
       "      maybeLoadScript(\"vega\", \"5\")\n",
       "        .then(() => maybeLoadScript(\"vega-lite\", \"5.16.3\"))\n",
       "        .then(() => maybeLoadScript(\"vega-embed\", \"6\"))\n",
       "        .catch(showError)\n",
       "        .then(() => displayChart(vegaEmbed));\n",
       "    }\n",
       "  })({\"config\": {\"view\": {\"continuousWidth\": 300, \"continuousHeight\": 300}, \"axis\": {\"labelAngle\": 45}}, \"layer\": [{\"mark\": {\"type\": \"line\"}, \"encoding\": {\"x\": {\"field\": \"Fecha\", \"type\": \"temporal\"}, \"y\": {\"field\": \"Temperatura\", \"scale\": {\"domain\": [36, 37]}, \"type\": \"quantitative\"}}}, {\"mark\": {\"type\": \"point\"}, \"encoding\": {\"tooltip\": [{\"field\": \"Fecha\", \"type\": \"temporal\"}, {\"field\": \"Temperatura\", \"type\": \"quantitative\"}], \"x\": {\"field\": \"Fecha\", \"type\": \"temporal\"}, \"y\": {\"field\": \"Temperatura\", \"type\": \"quantitative\"}}}, {\"mark\": {\"type\": \"line\"}, \"encoding\": {\"x\": {\"field\": \"Fecha\", \"type\": \"temporal\"}, \"y\": {\"field\": \"baseline\", \"scale\": {\"domain\": [36, 37]}, \"type\": \"quantitative\"}}}, {\"data\": {\"name\": \"data-9eb996c011eb641f192b6dc0e762fd90\"}, \"mark\": {\"type\": \"point\", \"color\": \"green\", \"filled\": true, \"size\": 100}, \"encoding\": {\"tooltip\": [{\"field\": \"Fecha\", \"type\": \"temporal\"}, {\"field\": \"ovulation_confirmed\", \"type\": \"nominal\"}], \"x\": {\"field\": \"Fecha\", \"type\": \"temporal\"}, \"y\": {\"field\": \"Temperatura\", \"type\": \"quantitative\"}}}], \"data\": {\"name\": \"data-e7708d527a476de6cb252cbe79ce7b09\"}, \"height\": 300, \"title\": \"Temperatura vs Fecha\", \"width\": 600, \"$schema\": \"https://vega.github.io/schema/vega-lite/v5.16.3.json\", \"datasets\": {\"data-e7708d527a476de6cb252cbe79ce7b09\": [{\"Fecha\": \"2024-01-30T00:00:00\", \"Temperatura\": 36.35, \"Max_Last_Six\": null, \"First_Over_Max_Last_Six\": false, \"baseline\": 36.35, \"higher_baseline\": false, \"days_higher_than_baseline\": 0.0, \"ovulation_confirmed\": false}, {\"Fecha\": \"2024-01-31T00:00:00\", \"Temperatura\": 36.2, \"Max_Last_Six\": null, \"First_Over_Max_Last_Six\": false, \"baseline\": 36.35, \"higher_baseline\": false, \"days_higher_than_baseline\": 0.0, \"ovulation_confirmed\": false}, {\"Fecha\": \"2024-02-01T00:00:00\", \"Temperatura\": 36.4, \"Max_Last_Six\": null, \"First_Over_Max_Last_Six\": false, \"baseline\": 36.35, \"higher_baseline\": false, \"days_higher_than_baseline\": 0.0, \"ovulation_confirmed\": false}, {\"Fecha\": \"2024-02-02T00:00:00\", \"Temperatura\": 36.25, \"Max_Last_Six\": null, \"First_Over_Max_Last_Six\": false, \"baseline\": 36.35, \"higher_baseline\": false, \"days_higher_than_baseline\": 0.0, \"ovulation_confirmed\": false}, {\"Fecha\": \"2024-02-03T00:00:00\", \"Temperatura\": 36.25, \"Max_Last_Six\": null, \"First_Over_Max_Last_Six\": false, \"baseline\": 36.35, \"higher_baseline\": false, \"days_higher_than_baseline\": 0.0, \"ovulation_confirmed\": false}, {\"Fecha\": \"2024-02-04T00:00:00\", \"Temperatura\": 36.25, \"Max_Last_Six\": 36.4, \"First_Over_Max_Last_Six\": false, \"baseline\": 36.35, \"higher_baseline\": false, \"days_higher_than_baseline\": 0.0, \"ovulation_confirmed\": false}, {\"Fecha\": \"2024-02-05T00:00:00\", \"Temperatura\": 36.35, \"Max_Last_Six\": 36.4, \"First_Over_Max_Last_Six\": false, \"baseline\": 36.35, \"higher_baseline\": false, \"days_higher_than_baseline\": 0.0, \"ovulation_confirmed\": false}, {\"Fecha\": \"2024-02-06T00:00:00\", \"Temperatura\": 36.3, \"Max_Last_Six\": 36.4, \"First_Over_Max_Last_Six\": false, \"baseline\": 36.35, \"higher_baseline\": false, \"days_higher_than_baseline\": 0.0, \"ovulation_confirmed\": false}, {\"Fecha\": \"2024-02-07T00:00:00\", \"Temperatura\": 36.35, \"Max_Last_Six\": 36.35, \"First_Over_Max_Last_Six\": true, \"baseline\": 36.35, \"higher_baseline\": false, \"days_higher_than_baseline\": 0.0, \"ovulation_confirmed\": false}, {\"Fecha\": \"2024-02-08T00:00:00\", \"Temperatura\": 36.5, \"Max_Last_Six\": 36.35, \"First_Over_Max_Last_Six\": false, \"baseline\": 36.35, \"higher_baseline\": true, \"days_higher_than_baseline\": 1.0, \"ovulation_confirmed\": false}, {\"Fecha\": \"2024-02-09T00:00:00\", \"Temperatura\": 36.7, \"Max_Last_Six\": 36.5, \"First_Over_Max_Last_Six\": false, \"baseline\": 36.35, \"higher_baseline\": true, \"days_higher_than_baseline\": 2.0, \"ovulation_confirmed\": false}, {\"Fecha\": \"2024-02-10T00:00:00\", \"Temperatura\": 36.55, \"Max_Last_Six\": 36.7, \"First_Over_Max_Last_Six\": false, \"baseline\": 36.35, \"higher_baseline\": true, \"days_higher_than_baseline\": 3.0, \"ovulation_confirmed\": true}, {\"Fecha\": \"2024-02-12T00:00:00\", \"Temperatura\": 36.4, \"Max_Last_Six\": 36.7, \"First_Over_Max_Last_Six\": false, \"baseline\": 36.35, \"higher_baseline\": false, \"days_higher_than_baseline\": 2.0, \"ovulation_confirmed\": true}, {\"Fecha\": \"2024-02-13T00:00:00\", \"Temperatura\": 36.45, \"Max_Last_Six\": 36.7, \"First_Over_Max_Last_Six\": false, \"baseline\": 36.35, \"higher_baseline\": true, \"days_higher_than_baseline\": 2.0, \"ovulation_confirmed\": true}, {\"Fecha\": \"2024-02-14T00:00:00\", \"Temperatura\": 36.6, \"Max_Last_Six\": 36.7, \"First_Over_Max_Last_Six\": false, \"baseline\": 36.35, \"higher_baseline\": true, \"days_higher_than_baseline\": 2.0, \"ovulation_confirmed\": true}, {\"Fecha\": \"2024-02-15T00:00:00\", \"Temperatura\": 36.7, \"Max_Last_Six\": 36.7, \"First_Over_Max_Last_Six\": false, \"baseline\": 36.35, \"higher_baseline\": true, \"days_higher_than_baseline\": 3.0, \"ovulation_confirmed\": true}, {\"Fecha\": \"2024-02-16T00:00:00\", \"Temperatura\": 36.55, \"Max_Last_Six\": 36.7, \"First_Over_Max_Last_Six\": false, \"baseline\": 36.35, \"higher_baseline\": true, \"days_higher_than_baseline\": 3.0, \"ovulation_confirmed\": true}, {\"Fecha\": \"2024-02-17T00:00:00\", \"Temperatura\": 36.8, \"Max_Last_Six\": 36.7, \"First_Over_Max_Last_Six\": false, \"baseline\": 36.35, \"higher_baseline\": true, \"days_higher_than_baseline\": 3.0, \"ovulation_confirmed\": true}, {\"Fecha\": \"2024-02-18T00:00:00\", \"Temperatura\": 36.7, \"Max_Last_Six\": 36.8, \"First_Over_Max_Last_Six\": false, \"baseline\": 36.35, \"higher_baseline\": true, \"days_higher_than_baseline\": 3.0, \"ovulation_confirmed\": true}, {\"Fecha\": \"2024-02-19T00:00:00\", \"Temperatura\": 36.65, \"Max_Last_Six\": 36.8, \"First_Over_Max_Last_Six\": false, \"baseline\": 36.35, \"higher_baseline\": true, \"days_higher_than_baseline\": 3.0, \"ovulation_confirmed\": true}, {\"Fecha\": \"2024-02-20T00:00:00\", \"Temperatura\": 36.3, \"Max_Last_Six\": 36.8, \"First_Over_Max_Last_Six\": false, \"baseline\": 36.35, \"higher_baseline\": false, \"days_higher_than_baseline\": 2.0, \"ovulation_confirmed\": true}], \"data-9eb996c011eb641f192b6dc0e762fd90\": [{\"Fecha\": \"2024-02-10T00:00:00\", \"Temperatura\": 36.55, \"Max_Last_Six\": 36.7, \"First_Over_Max_Last_Six\": false, \"baseline\": 36.35, \"higher_baseline\": true, \"days_higher_than_baseline\": 3.0, \"ovulation_confirmed\": true}, {\"Fecha\": \"2024-02-12T00:00:00\", \"Temperatura\": 36.4, \"Max_Last_Six\": 36.7, \"First_Over_Max_Last_Six\": false, \"baseline\": 36.35, \"higher_baseline\": false, \"days_higher_than_baseline\": 2.0, \"ovulation_confirmed\": true}, {\"Fecha\": \"2024-02-13T00:00:00\", \"Temperatura\": 36.45, \"Max_Last_Six\": 36.7, \"First_Over_Max_Last_Six\": false, \"baseline\": 36.35, \"higher_baseline\": true, \"days_higher_than_baseline\": 2.0, \"ovulation_confirmed\": true}, {\"Fecha\": \"2024-02-14T00:00:00\", \"Temperatura\": 36.6, \"Max_Last_Six\": 36.7, \"First_Over_Max_Last_Six\": false, \"baseline\": 36.35, \"higher_baseline\": true, \"days_higher_than_baseline\": 2.0, \"ovulation_confirmed\": true}, {\"Fecha\": \"2024-02-15T00:00:00\", \"Temperatura\": 36.7, \"Max_Last_Six\": 36.7, \"First_Over_Max_Last_Six\": false, \"baseline\": 36.35, \"higher_baseline\": true, \"days_higher_than_baseline\": 3.0, \"ovulation_confirmed\": true}, {\"Fecha\": \"2024-02-16T00:00:00\", \"Temperatura\": 36.55, \"Max_Last_Six\": 36.7, \"First_Over_Max_Last_Six\": false, \"baseline\": 36.35, \"higher_baseline\": true, \"days_higher_than_baseline\": 3.0, \"ovulation_confirmed\": true}, {\"Fecha\": \"2024-02-17T00:00:00\", \"Temperatura\": 36.8, \"Max_Last_Six\": 36.7, \"First_Over_Max_Last_Six\": false, \"baseline\": 36.35, \"higher_baseline\": true, \"days_higher_than_baseline\": 3.0, \"ovulation_confirmed\": true}, {\"Fecha\": \"2024-02-18T00:00:00\", \"Temperatura\": 36.7, \"Max_Last_Six\": 36.8, \"First_Over_Max_Last_Six\": false, \"baseline\": 36.35, \"higher_baseline\": true, \"days_higher_than_baseline\": 3.0, \"ovulation_confirmed\": true}, {\"Fecha\": \"2024-02-19T00:00:00\", \"Temperatura\": 36.65, \"Max_Last_Six\": 36.8, \"First_Over_Max_Last_Six\": false, \"baseline\": 36.35, \"higher_baseline\": true, \"days_higher_than_baseline\": 3.0, \"ovulation_confirmed\": true}, {\"Fecha\": \"2024-02-20T00:00:00\", \"Temperatura\": 36.3, \"Max_Last_Six\": 36.8, \"First_Over_Max_Last_Six\": false, \"baseline\": 36.35, \"higher_baseline\": false, \"days_higher_than_baseline\": 2.0, \"ovulation_confirmed\": true}]}}, {\"mode\": \"vega-lite\"});\n",
       "</script>"
      ],
      "text/plain": [
       "alt.LayerChart(...)"
      ]
     },
     "execution_count": 12,
     "metadata": {},
     "output_type": "execute_result"
    }
   ],
   "source": [
    "df['Fecha'] = pd.to_datetime(df['Fecha'])\n",
    "\n",
    "# Plot\n",
    "line = alt.Chart(df).mark_line().encode(\n",
    "    x='Fecha:T',\n",
    "    y=alt.Y('Temperatura:Q', scale=alt.Scale(domain=[36, 37]))\n",
    ")\n",
    "\n",
    "points = alt.Chart(df).mark_point().encode(\n",
    "    x='Fecha:T',\n",
    "    y='Temperatura:Q',\n",
    "    tooltip=['Fecha:T', 'Temperatura:Q']\n",
    ")\n",
    "\n",
    "baseline = alt.Chart(df).mark_line().encode(\n",
    "    x='Fecha:T',\n",
    "    y=alt.Y('baseline:Q', scale=alt.Scale(domain=[36, 37]))\n",
    ")\n",
    "\n",
    "points_ovulation = alt.Chart(df[df['ovulation_confirmed']]).mark_point(color='green', filled = True, size = 100).encode(\n",
    "    x='Fecha:T',\n",
    "    y='Temperatura:Q',\n",
    "    tooltip=['Fecha:T', 'ovulation_confirmed']\n",
    ")\n",
    "\n",
    "chart = (line + points+baseline+points_ovulation).properties(\n",
    "    title='Temperatura vs Fecha',\n",
    "    width=600,\n",
    "    height=300\n",
    ")\n",
    "\n",
    "chart.configure_axis(\n",
    "    labelAngle=45\n",
    ")"
   ]
  },
  {
   "cell_type": "code",
   "execution_count": null,
   "metadata": {},
   "outputs": [],
   "source": []
  },
  {
   "cell_type": "code",
   "execution_count": null,
   "metadata": {},
   "outputs": [],
   "source": []
  }
 ],
 "metadata": {
  "kernelspec": {
   "display_name": "Python 3",
   "language": "python",
   "name": "python3"
  },
  "language_info": {
   "codemirror_mode": {
    "name": "ipython",
    "version": 3
   },
   "file_extension": ".py",
   "mimetype": "text/x-python",
   "name": "python",
   "nbconvert_exporter": "python",
   "pygments_lexer": "ipython3",
   "version": "3.8.5"
  }
 },
 "nbformat": 4,
 "nbformat_minor": 2
}
