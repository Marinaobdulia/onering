{
 "cells": [
  {
   "cell_type": "code",
   "execution_count": 1,
   "metadata": {},
   "outputs": [],
   "source": [
    "import pandas as pd\n",
    "import altair as alt"
   ]
  },
  {
   "cell_type": "code",
   "execution_count": 2,
   "metadata": {},
   "outputs": [],
   "source": [
    "from vega_datasets import data\n",
    "\n",
    "temps = data.seattle_temps.url"
   ]
  },
  {
   "cell_type": "code",
   "execution_count": 3,
   "metadata": {},
   "outputs": [
    {
     "data": {
      "text/plain": [
       "'https://cdn.jsdelivr.net/npm/vega-datasets@v1.29.0/data/seattle-temps.csv'"
      ]
     },
     "execution_count": 3,
     "metadata": {},
     "output_type": "execute_result"
    }
   ],
   "source": [
    "temps"
   ]
  },
  {
   "cell_type": "code",
   "execution_count": 4,
   "metadata": {},
   "outputs": [],
   "source": [
    "df1 = pd.read_excel('../data/Marina_ciclo1.xlsx').rename(columns = {'Fecha': 'date', 'Temperatura': 'temp'})\n",
    "df2 = pd.read_excel('../data/Marina_ciclo2.xlsx').rename(columns = {'Fecha': 'date', 'Temperatura': 'temp'})\n",
    "df3 = pd.read_excel('../data/Marina_ciclo3.xlsx').rename(columns = {'Fecha': 'date', 'Temperatura': 'temp'})"
   ]
  },
  {
   "cell_type": "code",
   "execution_count": 5,
   "metadata": {},
   "outputs": [],
   "source": [
    "df1['cycle'] = 1\n",
    "df2['cycle'] = 2\n",
    "df3['cycle'] = 3\n",
    "\n",
    "df1['cycle_day'] = df1.index\n",
    "df2['cycle_day'] = df2.index\n",
    "df3['cycle_day'] = df3.index"
   ]
  },
  {
   "cell_type": "code",
   "execution_count": 6,
   "metadata": {},
   "outputs": [],
   "source": [
    "df = pd.concat([df1, df2, df3])"
   ]
  },
  {
   "cell_type": "code",
   "execution_count": 7,
   "metadata": {},
   "outputs": [],
   "source": [
    "df.Flujo.fillna('N', inplace = True)\n",
    "df.temp.fillna(36, inplace = True)"
   ]
  },
  {
   "cell_type": "code",
   "execution_count": 8,
   "metadata": {},
   "outputs": [
    {
     "data": {
      "text/html": [
       "<div>\n",
       "<style scoped>\n",
       "    .dataframe tbody tr th:only-of-type {\n",
       "        vertical-align: middle;\n",
       "    }\n",
       "\n",
       "    .dataframe tbody tr th {\n",
       "        vertical-align: top;\n",
       "    }\n",
       "\n",
       "    .dataframe thead th {\n",
       "        text-align: right;\n",
       "    }\n",
       "</style>\n",
       "<table border=\"1\" class=\"dataframe\">\n",
       "  <thead>\n",
       "    <tr style=\"text-align: right;\">\n",
       "      <th></th>\n",
       "      <th>date</th>\n",
       "      <th>temp</th>\n",
       "      <th>Flujo</th>\n",
       "      <th>cycle</th>\n",
       "      <th>cycle_day</th>\n",
       "    </tr>\n",
       "  </thead>\n",
       "  <tbody>\n",
       "    <tr>\n",
       "      <th>30</th>\n",
       "      <td>2024-01-18</td>\n",
       "      <td>36.7</td>\n",
       "      <td>N</td>\n",
       "      <td>1</td>\n",
       "      <td>30</td>\n",
       "    </tr>\n",
       "    <tr>\n",
       "      <th>31</th>\n",
       "      <td>2024-01-19</td>\n",
       "      <td>36.7</td>\n",
       "      <td>N</td>\n",
       "      <td>1</td>\n",
       "      <td>31</td>\n",
       "    </tr>\n",
       "    <tr>\n",
       "      <th>32</th>\n",
       "      <td>2024-01-20</td>\n",
       "      <td>36.6</td>\n",
       "      <td>N</td>\n",
       "      <td>1</td>\n",
       "      <td>32</td>\n",
       "    </tr>\n",
       "    <tr>\n",
       "      <th>33</th>\n",
       "      <td>2024-01-21</td>\n",
       "      <td>36.5</td>\n",
       "      <td>N</td>\n",
       "      <td>1</td>\n",
       "      <td>33</td>\n",
       "    </tr>\n",
       "    <tr>\n",
       "      <th>34</th>\n",
       "      <td>2024-01-22</td>\n",
       "      <td>36.6</td>\n",
       "      <td>N</td>\n",
       "      <td>1</td>\n",
       "      <td>34</td>\n",
       "    </tr>\n",
       "    <tr>\n",
       "      <th>35</th>\n",
       "      <td>2024-01-23</td>\n",
       "      <td>36.2</td>\n",
       "      <td>N</td>\n",
       "      <td>1</td>\n",
       "      <td>35</td>\n",
       "    </tr>\n",
       "    <tr>\n",
       "      <th>0</th>\n",
       "      <td>2024-01-23</td>\n",
       "      <td>36.0</td>\n",
       "      <td>S</td>\n",
       "      <td>2</td>\n",
       "      <td>0</td>\n",
       "    </tr>\n",
       "    <tr>\n",
       "      <th>1</th>\n",
       "      <td>2024-01-24</td>\n",
       "      <td>36.0</td>\n",
       "      <td>S</td>\n",
       "      <td>2</td>\n",
       "      <td>1</td>\n",
       "    </tr>\n",
       "    <tr>\n",
       "      <th>2</th>\n",
       "      <td>2024-01-25</td>\n",
       "      <td>36.0</td>\n",
       "      <td>S</td>\n",
       "      <td>2</td>\n",
       "      <td>2</td>\n",
       "    </tr>\n",
       "    <tr>\n",
       "      <th>3</th>\n",
       "      <td>2024-01-26</td>\n",
       "      <td>36.0</td>\n",
       "      <td>S</td>\n",
       "      <td>2</td>\n",
       "      <td>3</td>\n",
       "    </tr>\n",
       "  </tbody>\n",
       "</table>\n",
       "</div>"
      ],
      "text/plain": [
       "         date  temp Flujo  cycle  cycle_day\n",
       "30 2024-01-18  36.7     N      1         30\n",
       "31 2024-01-19  36.7     N      1         31\n",
       "32 2024-01-20  36.6     N      1         32\n",
       "33 2024-01-21  36.5     N      1         33\n",
       "34 2024-01-22  36.6     N      1         34\n",
       "35 2024-01-23  36.2     N      1         35\n",
       "0  2024-01-23  36.0     S      2          0\n",
       "1  2024-01-24  36.0     S      2          1\n",
       "2  2024-01-25  36.0     S      2          2\n",
       "3  2024-01-26  36.0     S      2          3"
      ]
     },
     "execution_count": 8,
     "metadata": {},
     "output_type": "execute_result"
    }
   ],
   "source": [
    "df.iloc[30:40]"
   ]
  },
  {
   "cell_type": "code",
   "execution_count": 9,
   "metadata": {},
   "outputs": [
    {
     "data": {
      "text/html": [
       "\n",
       "<style>\n",
       "  #altair-viz-e89331cad3cc4fe58b4e2cee572a947a.vega-embed {\n",
       "    width: 100%;\n",
       "    display: flex;\n",
       "  }\n",
       "\n",
       "  #altair-viz-e89331cad3cc4fe58b4e2cee572a947a.vega-embed details,\n",
       "  #altair-viz-e89331cad3cc4fe58b4e2cee572a947a.vega-embed details summary {\n",
       "    position: relative;\n",
       "  }\n",
       "</style>\n",
       "<div id=\"altair-viz-e89331cad3cc4fe58b4e2cee572a947a\"></div>\n",
       "<script type=\"text/javascript\">\n",
       "  var VEGA_DEBUG = (typeof VEGA_DEBUG == \"undefined\") ? {} : VEGA_DEBUG;\n",
       "  (function(spec, embedOpt){\n",
       "    let outputDiv = document.currentScript.previousElementSibling;\n",
       "    if (outputDiv.id !== \"altair-viz-e89331cad3cc4fe58b4e2cee572a947a\") {\n",
       "      outputDiv = document.getElementById(\"altair-viz-e89331cad3cc4fe58b4e2cee572a947a\");\n",
       "    }\n",
       "    const paths = {\n",
       "      \"vega\": \"https://cdn.jsdelivr.net/npm/vega@5?noext\",\n",
       "      \"vega-lib\": \"https://cdn.jsdelivr.net/npm/vega-lib?noext\",\n",
       "      \"vega-lite\": \"https://cdn.jsdelivr.net/npm/vega-lite@5.16.3?noext\",\n",
       "      \"vega-embed\": \"https://cdn.jsdelivr.net/npm/vega-embed@6?noext\",\n",
       "    };\n",
       "\n",
       "    function maybeLoadScript(lib, version) {\n",
       "      var key = `${lib.replace(\"-\", \"\")}_version`;\n",
       "      return (VEGA_DEBUG[key] == version) ?\n",
       "        Promise.resolve(paths[lib]) :\n",
       "        new Promise(function(resolve, reject) {\n",
       "          var s = document.createElement('script');\n",
       "          document.getElementsByTagName(\"head\")[0].appendChild(s);\n",
       "          s.async = true;\n",
       "          s.onload = () => {\n",
       "            VEGA_DEBUG[key] = version;\n",
       "            return resolve(paths[lib]);\n",
       "          };\n",
       "          s.onerror = () => reject(`Error loading script: ${paths[lib]}`);\n",
       "          s.src = paths[lib];\n",
       "        });\n",
       "    }\n",
       "\n",
       "    function showError(err) {\n",
       "      outputDiv.innerHTML = `<div class=\"error\" style=\"color:red;\">${err}</div>`;\n",
       "      throw err;\n",
       "    }\n",
       "\n",
       "    function displayChart(vegaEmbed) {\n",
       "      vegaEmbed(outputDiv, spec, embedOpt)\n",
       "        .catch(err => showError(`Javascript Error: ${err.message}<br>This usually means there's a typo in your chart specification. See the javascript console for the full traceback.`));\n",
       "    }\n",
       "\n",
       "    if(typeof define === \"function\" && define.amd) {\n",
       "      requirejs.config({paths});\n",
       "      require([\"vega-embed\"], displayChart, err => showError(`Error loading script: ${err.message}`));\n",
       "    } else {\n",
       "      maybeLoadScript(\"vega\", \"5\")\n",
       "        .then(() => maybeLoadScript(\"vega-lite\", \"5.16.3\"))\n",
       "        .then(() => maybeLoadScript(\"vega-embed\", \"6\"))\n",
       "        .catch(showError)\n",
       "        .then(() => displayChart(vegaEmbed));\n",
       "    }\n",
       "  })({\"config\": {\"view\": {\"continuousWidth\": 300, \"continuousHeight\": 300}}, \"data\": {\"name\": \"data-3ae0ceb2d58ff0f2fa6305aee3a082df\"}, \"mark\": {\"type\": \"bar\"}, \"encoding\": {\"color\": {\"field\": \"temp\", \"sort\": {\"field\": \"cycle_day\", \"order\": \"descending\"}, \"type\": \"quantitative\"}, \"tooltip\": [{\"field\": \"cycle\", \"type\": \"quantitative\"}, {\"field\": \"cycle_day\", \"type\": \"quantitative\"}], \"x\": {\"field\": \"cycle_day\", \"type\": \"quantitative\"}, \"y\": {\"field\": \"cycle\", \"title\": \"month\", \"type\": \"ordinal\"}}, \"title\": \"2010 Daily High Temperatures in Seattle (F)\", \"$schema\": \"https://vega.github.io/schema/vega-lite/v5.16.3.json\", \"datasets\": {\"data-3ae0ceb2d58ff0f2fa6305aee3a082df\": [{\"date\": \"2023-12-19T00:00:00\", \"temp\": 36.0, \"Flujo\": \"S\", \"cycle\": 1, \"cycle_day\": 0}, {\"date\": \"2024-02-20T00:00:00\", \"temp\": 36.0, \"Flujo\": \"S\", \"cycle\": 3, \"cycle_day\": 0}, {\"date\": \"2024-01-23T00:00:00\", \"temp\": 36.0, \"Flujo\": \"S\", \"cycle\": 2, \"cycle_day\": 0}, {\"date\": \"2024-01-24T00:00:00\", \"temp\": 36.0, \"Flujo\": \"S\", \"cycle\": 2, \"cycle_day\": 1}, {\"date\": \"2024-02-21T00:00:00\", \"temp\": 36.0, \"Flujo\": \"S\", \"cycle\": 3, \"cycle_day\": 1}, {\"date\": \"2023-12-20T00:00:00\", \"temp\": 36.0, \"Flujo\": \"S\", \"cycle\": 1, \"cycle_day\": 1}, {\"date\": \"2024-02-22T00:00:00\", \"temp\": 36.0, \"Flujo\": \"S\", \"cycle\": 3, \"cycle_day\": 2}, {\"date\": \"2024-01-25T00:00:00\", \"temp\": 36.0, \"Flujo\": \"S\", \"cycle\": 2, \"cycle_day\": 2}, {\"date\": \"2023-12-21T00:00:00\", \"temp\": 36.0, \"Flujo\": \"S\", \"cycle\": 1, \"cycle_day\": 2}, {\"date\": \"2023-12-22T00:00:00\", \"temp\": 36.0, \"Flujo\": \"S\", \"cycle\": 1, \"cycle_day\": 3}, {\"date\": \"2024-01-26T00:00:00\", \"temp\": 36.0, \"Flujo\": \"S\", \"cycle\": 2, \"cycle_day\": 3}, {\"date\": \"2024-02-23T00:00:00\", \"temp\": 36.0, \"Flujo\": \"S\", \"cycle\": 3, \"cycle_day\": 3}, {\"date\": \"2023-12-23T00:00:00\", \"temp\": 36.0, \"Flujo\": \"S\", \"cycle\": 1, \"cycle_day\": 4}, {\"date\": \"2024-02-24T00:00:00\", \"temp\": 36.0, \"Flujo\": \"S\", \"cycle\": 3, \"cycle_day\": 4}, {\"date\": \"2024-01-27T00:00:00\", \"temp\": 36.0, \"Flujo\": \"S\", \"cycle\": 2, \"cycle_day\": 4}, {\"date\": \"2023-12-24T00:00:00\", \"temp\": 36.0, \"Flujo\": \"S\", \"cycle\": 1, \"cycle_day\": 5}, {\"date\": \"2024-02-25T00:00:00\", \"temp\": 36.0, \"Flujo\": \"S\", \"cycle\": 3, \"cycle_day\": 5}, {\"date\": \"2024-01-28T00:00:00\", \"temp\": 36.0, \"Flujo\": \"S\", \"cycle\": 2, \"cycle_day\": 5}, {\"date\": \"2024-02-26T00:00:00\", \"temp\": 36.0, \"Flujo\": \"S\", \"cycle\": 3, \"cycle_day\": 6}, {\"date\": \"2024-01-29T00:00:00\", \"temp\": 36.0, \"Flujo\": \"S\", \"cycle\": 2, \"cycle_day\": 6}, {\"date\": \"2023-12-25T00:00:00\", \"temp\": 36.0, \"Flujo\": \"N\", \"cycle\": 1, \"cycle_day\": 6}, {\"date\": \"2023-12-26T00:00:00\", \"temp\": 36.0, \"Flujo\": \"N\", \"cycle\": 1, \"cycle_day\": 7}, {\"date\": \"2024-01-30T00:00:00\", \"temp\": 36.35, \"Flujo\": \"N\", \"cycle\": 2, \"cycle_day\": 7}, {\"date\": \"2024-02-27T00:00:00\", \"temp\": 36.2, \"Flujo\": \"f\", \"cycle\": 3, \"cycle_day\": 7}, {\"date\": \"2024-01-31T00:00:00\", \"temp\": 36.2, \"Flujo\": \"N\", \"cycle\": 2, \"cycle_day\": 8}, {\"date\": \"2023-12-27T00:00:00\", \"temp\": 36.0, \"Flujo\": \"N\", \"cycle\": 1, \"cycle_day\": 8}, {\"date\": \"2024-02-28T00:00:00\", \"temp\": 36.0, \"Flujo\": \"f\", \"cycle\": 3, \"cycle_day\": 8}, {\"date\": \"2024-02-01T00:00:00\", \"temp\": 36.4, \"Flujo\": \"f\", \"cycle\": 2, \"cycle_day\": 9}, {\"date\": \"2023-12-28T00:00:00\", \"temp\": 36.5, \"Flujo\": \"N\", \"cycle\": 1, \"cycle_day\": 9}, {\"date\": \"2024-02-29T00:00:00\", \"temp\": 36.0, \"Flujo\": \"F\", \"cycle\": 3, \"cycle_day\": 9}, {\"date\": \"2023-12-29T00:00:00\", \"temp\": 36.3, \"Flujo\": \"N\", \"cycle\": 1, \"cycle_day\": 10}, {\"date\": \"2024-03-01T00:00:00\", \"temp\": 36.3, \"Flujo\": \"F\", \"cycle\": 3, \"cycle_day\": 10}, {\"date\": \"2024-02-02T00:00:00\", \"temp\": 36.25, \"Flujo\": \"f\", \"cycle\": 2, \"cycle_day\": 10}, {\"date\": \"2023-12-30T00:00:00\", \"temp\": 36.3, \"Flujo\": \"N\", \"cycle\": 1, \"cycle_day\": 11}, {\"date\": \"2024-02-03T00:00:00\", \"temp\": 36.25, \"Flujo\": \"f\", \"cycle\": 2, \"cycle_day\": 11}, {\"date\": \"2024-03-02T00:00:00\", \"temp\": 36.0, \"Flujo\": \"F\", \"cycle\": 3, \"cycle_day\": 11}, {\"date\": \"2024-03-03T00:00:00\", \"temp\": 36.2, \"Flujo\": \"f\", \"cycle\": 3, \"cycle_day\": 12}, {\"date\": \"2024-02-04T00:00:00\", \"temp\": 36.25, \"Flujo\": \"F\", \"cycle\": 2, \"cycle_day\": 12}, {\"date\": \"2023-12-31T00:00:00\", \"temp\": 36.0, \"Flujo\": \"N\", \"cycle\": 1, \"cycle_day\": 12}, {\"date\": \"2024-02-05T00:00:00\", \"temp\": 36.35, \"Flujo\": \"F\", \"cycle\": 2, \"cycle_day\": 13}, {\"date\": \"2024-03-04T00:00:00\", \"temp\": 36.5, \"Flujo\": \"f\", \"cycle\": 3, \"cycle_day\": 13}, {\"date\": \"2024-01-01T00:00:00\", \"temp\": 36.0, \"Flujo\": \"f\", \"cycle\": 1, \"cycle_day\": 13}, {\"date\": \"2024-02-06T00:00:00\", \"temp\": 36.3, \"Flujo\": \"f\", \"cycle\": 2, \"cycle_day\": 14}, {\"date\": \"2024-01-02T00:00:00\", \"temp\": 36.0, \"Flujo\": \"f\", \"cycle\": 1, \"cycle_day\": 14}, {\"date\": \"2024-03-05T00:00:00\", \"temp\": 36.45, \"Flujo\": \"N\", \"cycle\": 3, \"cycle_day\": 14}, {\"date\": \"2024-01-03T00:00:00\", \"temp\": 36.15, \"Flujo\": \"f\", \"cycle\": 1, \"cycle_day\": 15}, {\"date\": \"2024-03-06T00:00:00\", \"temp\": 36.4, \"Flujo\": \"N\", \"cycle\": 3, \"cycle_day\": 15}, {\"date\": \"2024-02-07T00:00:00\", \"temp\": 36.35, \"Flujo\": \"f\", \"cycle\": 2, \"cycle_day\": 15}, {\"date\": \"2024-02-08T00:00:00\", \"temp\": 36.5, \"Flujo\": \"N\", \"cycle\": 2, \"cycle_day\": 16}, {\"date\": \"2024-03-07T00:00:00\", \"temp\": 36.6, \"Flujo\": \"N\", \"cycle\": 3, \"cycle_day\": 16}, {\"date\": \"2024-01-04T00:00:00\", \"temp\": 36.0, \"Flujo\": \"F\", \"cycle\": 1, \"cycle_day\": 16}, {\"date\": \"2024-01-05T00:00:00\", \"temp\": 36.15, \"Flujo\": \"F\", \"cycle\": 1, \"cycle_day\": 17}, {\"date\": \"2024-03-08T00:00:00\", \"temp\": 36.7, \"Flujo\": \"N\", \"cycle\": 3, \"cycle_day\": 17}, {\"date\": \"2024-02-09T00:00:00\", \"temp\": 36.7, \"Flujo\": \"N\", \"cycle\": 2, \"cycle_day\": 17}, {\"date\": \"2024-01-06T00:00:00\", \"temp\": 36.2, \"Flujo\": \"F\", \"cycle\": 1, \"cycle_day\": 18}, {\"date\": \"2024-02-10T00:00:00\", \"temp\": 36.55, \"Flujo\": \"N\", \"cycle\": 2, \"cycle_day\": 18}, {\"date\": \"2024-03-09T00:00:00\", \"temp\": 36.52, \"Flujo\": \"N\", \"cycle\": 3, \"cycle_day\": 18}, {\"date\": \"2024-03-10T00:00:00\", \"temp\": 36.66, \"Flujo\": \"N\", \"cycle\": 3, \"cycle_day\": 19}, {\"date\": \"2024-01-07T00:00:00\", \"temp\": 36.0, \"Flujo\": \"f\", \"cycle\": 1, \"cycle_day\": 19}, {\"date\": \"2024-02-11T00:00:00\", \"temp\": 36.0, \"Flujo\": \"N\", \"cycle\": 2, \"cycle_day\": 19}, {\"date\": \"2024-01-08T00:00:00\", \"temp\": 36.3, \"Flujo\": \"N\", \"cycle\": 1, \"cycle_day\": 20}, {\"date\": \"2024-02-12T00:00:00\", \"temp\": 36.4, \"Flujo\": \"N\", \"cycle\": 2, \"cycle_day\": 20}, {\"date\": \"2024-01-09T00:00:00\", \"temp\": 36.5, \"Flujo\": \"N\", \"cycle\": 1, \"cycle_day\": 21}, {\"date\": \"2024-02-13T00:00:00\", \"temp\": 36.45, \"Flujo\": \"N\", \"cycle\": 2, \"cycle_day\": 21}, {\"date\": \"2024-01-10T00:00:00\", \"temp\": 36.45, \"Flujo\": \"N\", \"cycle\": 1, \"cycle_day\": 22}, {\"date\": \"2024-02-14T00:00:00\", \"temp\": 36.6, \"Flujo\": \"N\", \"cycle\": 2, \"cycle_day\": 22}, {\"date\": \"2024-02-15T00:00:00\", \"temp\": 36.7, \"Flujo\": \"N\", \"cycle\": 2, \"cycle_day\": 23}, {\"date\": \"2024-01-11T00:00:00\", \"temp\": 36.65, \"Flujo\": \"N\", \"cycle\": 1, \"cycle_day\": 23}, {\"date\": \"2024-02-16T00:00:00\", \"temp\": 36.55, \"Flujo\": \"N\", \"cycle\": 2, \"cycle_day\": 24}, {\"date\": \"2024-01-12T00:00:00\", \"temp\": 36.65, \"Flujo\": \"N\", \"cycle\": 1, \"cycle_day\": 24}, {\"date\": \"2024-02-17T00:00:00\", \"temp\": 36.8, \"Flujo\": \"N\", \"cycle\": 2, \"cycle_day\": 25}, {\"date\": \"2024-01-13T00:00:00\", \"temp\": 36.7, \"Flujo\": \"N\", \"cycle\": 1, \"cycle_day\": 25}, {\"date\": \"2024-02-18T00:00:00\", \"temp\": 36.7, \"Flujo\": \"N\", \"cycle\": 2, \"cycle_day\": 26}, {\"date\": \"2024-01-14T00:00:00\", \"temp\": 36.6, \"Flujo\": \"N\", \"cycle\": 1, \"cycle_day\": 26}, {\"date\": \"2024-02-19T00:00:00\", \"temp\": 36.65, \"Flujo\": \"N\", \"cycle\": 2, \"cycle_day\": 27}, {\"date\": \"2024-01-15T00:00:00\", \"temp\": 36.7, \"Flujo\": \"N\", \"cycle\": 1, \"cycle_day\": 27}, {\"date\": \"2024-01-16T00:00:00\", \"temp\": 36.9, \"Flujo\": \"N\", \"cycle\": 1, \"cycle_day\": 28}, {\"date\": \"2024-02-20T00:00:00\", \"temp\": 36.3, \"Flujo\": \"N\", \"cycle\": 2, \"cycle_day\": 28}, {\"date\": \"2024-01-17T00:00:00\", \"temp\": 36.6, \"Flujo\": \"N\", \"cycle\": 1, \"cycle_day\": 29}, {\"date\": \"2024-01-18T00:00:00\", \"temp\": 36.7, \"Flujo\": \"N\", \"cycle\": 1, \"cycle_day\": 30}, {\"date\": \"2024-01-19T00:00:00\", \"temp\": 36.7, \"Flujo\": \"N\", \"cycle\": 1, \"cycle_day\": 31}, {\"date\": \"2024-01-20T00:00:00\", \"temp\": 36.6, \"Flujo\": \"N\", \"cycle\": 1, \"cycle_day\": 32}, {\"date\": \"2024-01-21T00:00:00\", \"temp\": 36.5, \"Flujo\": \"N\", \"cycle\": 1, \"cycle_day\": 33}, {\"date\": \"2024-01-22T00:00:00\", \"temp\": 36.6, \"Flujo\": \"N\", \"cycle\": 1, \"cycle_day\": 34}, {\"date\": \"2024-01-23T00:00:00\", \"temp\": 36.2, \"Flujo\": \"N\", \"cycle\": 1, \"cycle_day\": 35}]}}, {\"mode\": \"vega-lite\"});\n",
       "</script>"
      ],
      "text/plain": [
       "alt.Chart(...)"
      ]
     },
     "execution_count": 9,
     "metadata": {},
     "output_type": "execute_result"
    }
   ],
   "source": [
    "df.sort_values(by='cycle_day', inplace=True)\n",
    "\n",
    "alt.Chart(df).mark_bar().encode(\n",
    "    alt.X('cycle_day:Q'),\n",
    "    alt.Y('cycle:O').title('month'),\n",
    "    alt.Color('temp', sort=alt.EncodingSortField(field='cycle_day', order='descending')),\n",
    "    tooltip=['cycle', 'cycle_day']\n",
    ").properties(\n",
    "    title=\"2010 Daily High Temperatures in Seattle (F)\"\n",
    ")"
   ]
  },
  {
   "cell_type": "code",
   "execution_count": 10,
   "metadata": {},
   "outputs": [
    {
     "data": {
      "text/html": [
       "\n",
       "<style>\n",
       "  #altair-viz-1b1542b0ca6a4a2591594ac7944bf83e.vega-embed {\n",
       "    width: 100%;\n",
       "    display: flex;\n",
       "  }\n",
       "\n",
       "  #altair-viz-1b1542b0ca6a4a2591594ac7944bf83e.vega-embed details,\n",
       "  #altair-viz-1b1542b0ca6a4a2591594ac7944bf83e.vega-embed details summary {\n",
       "    position: relative;\n",
       "  }\n",
       "</style>\n",
       "<div id=\"altair-viz-1b1542b0ca6a4a2591594ac7944bf83e\"></div>\n",
       "<script type=\"text/javascript\">\n",
       "  var VEGA_DEBUG = (typeof VEGA_DEBUG == \"undefined\") ? {} : VEGA_DEBUG;\n",
       "  (function(spec, embedOpt){\n",
       "    let outputDiv = document.currentScript.previousElementSibling;\n",
       "    if (outputDiv.id !== \"altair-viz-1b1542b0ca6a4a2591594ac7944bf83e\") {\n",
       "      outputDiv = document.getElementById(\"altair-viz-1b1542b0ca6a4a2591594ac7944bf83e\");\n",
       "    }\n",
       "    const paths = {\n",
       "      \"vega\": \"https://cdn.jsdelivr.net/npm/vega@5?noext\",\n",
       "      \"vega-lib\": \"https://cdn.jsdelivr.net/npm/vega-lib?noext\",\n",
       "      \"vega-lite\": \"https://cdn.jsdelivr.net/npm/vega-lite@5.16.3?noext\",\n",
       "      \"vega-embed\": \"https://cdn.jsdelivr.net/npm/vega-embed@6?noext\",\n",
       "    };\n",
       "\n",
       "    function maybeLoadScript(lib, version) {\n",
       "      var key = `${lib.replace(\"-\", \"\")}_version`;\n",
       "      return (VEGA_DEBUG[key] == version) ?\n",
       "        Promise.resolve(paths[lib]) :\n",
       "        new Promise(function(resolve, reject) {\n",
       "          var s = document.createElement('script');\n",
       "          document.getElementsByTagName(\"head\")[0].appendChild(s);\n",
       "          s.async = true;\n",
       "          s.onload = () => {\n",
       "            VEGA_DEBUG[key] = version;\n",
       "            return resolve(paths[lib]);\n",
       "          };\n",
       "          s.onerror = () => reject(`Error loading script: ${paths[lib]}`);\n",
       "          s.src = paths[lib];\n",
       "        });\n",
       "    }\n",
       "\n",
       "    function showError(err) {\n",
       "      outputDiv.innerHTML = `<div class=\"error\" style=\"color:red;\">${err}</div>`;\n",
       "      throw err;\n",
       "    }\n",
       "\n",
       "    function displayChart(vegaEmbed) {\n",
       "      vegaEmbed(outputDiv, spec, embedOpt)\n",
       "        .catch(err => showError(`Javascript Error: ${err.message}<br>This usually means there's a typo in your chart specification. See the javascript console for the full traceback.`));\n",
       "    }\n",
       "\n",
       "    if(typeof define === \"function\" && define.amd) {\n",
       "      requirejs.config({paths});\n",
       "      require([\"vega-embed\"], displayChart, err => showError(`Error loading script: ${err.message}`));\n",
       "    } else {\n",
       "      maybeLoadScript(\"vega\", \"5\")\n",
       "        .then(() => maybeLoadScript(\"vega-lite\", \"5.16.3\"))\n",
       "        .then(() => maybeLoadScript(\"vega-embed\", \"6\"))\n",
       "        .catch(showError)\n",
       "        .then(() => displayChart(vegaEmbed));\n",
       "    }\n",
       "  })({\"config\": {\"view\": {\"continuousWidth\": 300, \"continuousHeight\": 300}}, \"data\": {\"name\": \"data-8ef36d1874baea6783465f8085e72d9e\"}, \"mark\": {\"type\": \"bar\"}, \"encoding\": {\"color\": {\"field\": \"temp\", \"scale\": {\"scheme\": \"reds\"}, \"title\": \"Temperature (F)\", \"type\": \"quantitative\"}, \"tooltip\": [{\"field\": \"cycle\", \"type\": \"quantitative\"}, {\"field\": \"cycle_day\", \"type\": \"quantitative\"}], \"x\": {\"field\": \"cycle_day\", \"sort\": {\"field\": \"cycle_day\", \"order\": \"descending\"}, \"title\": \"day\", \"type\": \"quantitative\"}, \"y\": {\"field\": \"cycle\", \"title\": \"month\", \"type\": \"ordinal\"}}, \"title\": \"2010 Daily High Temperatures in Seattle (F)\", \"$schema\": \"https://vega.github.io/schema/vega-lite/v5.16.3.json\", \"datasets\": {\"data-8ef36d1874baea6783465f8085e72d9e\": [{\"date\": \"2023-12-19T00:00:00\", \"temp\": 36.0, \"Flujo\": \"S\", \"cycle\": 1, \"cycle_day\": 0}, {\"date\": \"2024-02-20T00:00:00\", \"temp\": 36.0, \"Flujo\": \"S\", \"cycle\": 3, \"cycle_day\": 0}, {\"date\": \"2024-01-23T00:00:00\", \"temp\": 36.0, \"Flujo\": \"S\", \"cycle\": 2, \"cycle_day\": 0}, {\"date\": \"2024-01-24T00:00:00\", \"temp\": 36.0, \"Flujo\": \"S\", \"cycle\": 2, \"cycle_day\": 1}, {\"date\": \"2024-02-21T00:00:00\", \"temp\": 36.0, \"Flujo\": \"S\", \"cycle\": 3, \"cycle_day\": 1}, {\"date\": \"2023-12-20T00:00:00\", \"temp\": 36.0, \"Flujo\": \"S\", \"cycle\": 1, \"cycle_day\": 1}, {\"date\": \"2024-02-22T00:00:00\", \"temp\": 36.0, \"Flujo\": \"S\", \"cycle\": 3, \"cycle_day\": 2}, {\"date\": \"2024-01-25T00:00:00\", \"temp\": 36.0, \"Flujo\": \"S\", \"cycle\": 2, \"cycle_day\": 2}, {\"date\": \"2023-12-21T00:00:00\", \"temp\": 36.0, \"Flujo\": \"S\", \"cycle\": 1, \"cycle_day\": 2}, {\"date\": \"2024-02-23T00:00:00\", \"temp\": 36.0, \"Flujo\": \"S\", \"cycle\": 3, \"cycle_day\": 3}, {\"date\": \"2024-01-26T00:00:00\", \"temp\": 36.0, \"Flujo\": \"S\", \"cycle\": 2, \"cycle_day\": 3}, {\"date\": \"2023-12-22T00:00:00\", \"temp\": 36.0, \"Flujo\": \"S\", \"cycle\": 1, \"cycle_day\": 3}, {\"date\": \"2023-12-23T00:00:00\", \"temp\": 36.0, \"Flujo\": \"S\", \"cycle\": 1, \"cycle_day\": 4}, {\"date\": \"2024-02-24T00:00:00\", \"temp\": 36.0, \"Flujo\": \"S\", \"cycle\": 3, \"cycle_day\": 4}, {\"date\": \"2024-01-27T00:00:00\", \"temp\": 36.0, \"Flujo\": \"S\", \"cycle\": 2, \"cycle_day\": 4}, {\"date\": \"2023-12-24T00:00:00\", \"temp\": 36.0, \"Flujo\": \"S\", \"cycle\": 1, \"cycle_day\": 5}, {\"date\": \"2024-02-25T00:00:00\", \"temp\": 36.0, \"Flujo\": \"S\", \"cycle\": 3, \"cycle_day\": 5}, {\"date\": \"2024-01-28T00:00:00\", \"temp\": 36.0, \"Flujo\": \"S\", \"cycle\": 2, \"cycle_day\": 5}, {\"date\": \"2024-02-26T00:00:00\", \"temp\": 36.0, \"Flujo\": \"S\", \"cycle\": 3, \"cycle_day\": 6}, {\"date\": \"2024-01-29T00:00:00\", \"temp\": 36.0, \"Flujo\": \"S\", \"cycle\": 2, \"cycle_day\": 6}, {\"date\": \"2023-12-25T00:00:00\", \"temp\": 36.0, \"Flujo\": \"N\", \"cycle\": 1, \"cycle_day\": 6}, {\"date\": \"2024-02-27T00:00:00\", \"temp\": 36.2, \"Flujo\": \"f\", \"cycle\": 3, \"cycle_day\": 7}, {\"date\": \"2023-12-26T00:00:00\", \"temp\": 36.0, \"Flujo\": \"N\", \"cycle\": 1, \"cycle_day\": 7}, {\"date\": \"2024-01-30T00:00:00\", \"temp\": 36.35, \"Flujo\": \"N\", \"cycle\": 2, \"cycle_day\": 7}, {\"date\": \"2024-01-31T00:00:00\", \"temp\": 36.2, \"Flujo\": \"N\", \"cycle\": 2, \"cycle_day\": 8}, {\"date\": \"2023-12-27T00:00:00\", \"temp\": 36.0, \"Flujo\": \"N\", \"cycle\": 1, \"cycle_day\": 8}, {\"date\": \"2024-02-28T00:00:00\", \"temp\": 36.0, \"Flujo\": \"f\", \"cycle\": 3, \"cycle_day\": 8}, {\"date\": \"2024-02-01T00:00:00\", \"temp\": 36.4, \"Flujo\": \"f\", \"cycle\": 2, \"cycle_day\": 9}, {\"date\": \"2023-12-28T00:00:00\", \"temp\": 36.5, \"Flujo\": \"N\", \"cycle\": 1, \"cycle_day\": 9}, {\"date\": \"2024-02-29T00:00:00\", \"temp\": 36.0, \"Flujo\": \"F\", \"cycle\": 3, \"cycle_day\": 9}, {\"date\": \"2024-02-02T00:00:00\", \"temp\": 36.25, \"Flujo\": \"f\", \"cycle\": 2, \"cycle_day\": 10}, {\"date\": \"2024-03-01T00:00:00\", \"temp\": 36.3, \"Flujo\": \"F\", \"cycle\": 3, \"cycle_day\": 10}, {\"date\": \"2023-12-29T00:00:00\", \"temp\": 36.3, \"Flujo\": \"N\", \"cycle\": 1, \"cycle_day\": 10}, {\"date\": \"2023-12-30T00:00:00\", \"temp\": 36.3, \"Flujo\": \"N\", \"cycle\": 1, \"cycle_day\": 11}, {\"date\": \"2024-02-03T00:00:00\", \"temp\": 36.25, \"Flujo\": \"f\", \"cycle\": 2, \"cycle_day\": 11}, {\"date\": \"2024-03-02T00:00:00\", \"temp\": 36.0, \"Flujo\": \"F\", \"cycle\": 3, \"cycle_day\": 11}, {\"date\": \"2024-03-03T00:00:00\", \"temp\": 36.2, \"Flujo\": \"f\", \"cycle\": 3, \"cycle_day\": 12}, {\"date\": \"2024-02-04T00:00:00\", \"temp\": 36.25, \"Flujo\": \"F\", \"cycle\": 2, \"cycle_day\": 12}, {\"date\": \"2023-12-31T00:00:00\", \"temp\": 36.0, \"Flujo\": \"N\", \"cycle\": 1, \"cycle_day\": 12}, {\"date\": \"2024-03-04T00:00:00\", \"temp\": 36.5, \"Flujo\": \"f\", \"cycle\": 3, \"cycle_day\": 13}, {\"date\": \"2024-01-01T00:00:00\", \"temp\": 36.0, \"Flujo\": \"f\", \"cycle\": 1, \"cycle_day\": 13}, {\"date\": \"2024-02-05T00:00:00\", \"temp\": 36.35, \"Flujo\": \"F\", \"cycle\": 2, \"cycle_day\": 13}, {\"date\": \"2024-03-05T00:00:00\", \"temp\": 36.45, \"Flujo\": \"N\", \"cycle\": 3, \"cycle_day\": 14}, {\"date\": \"2024-02-06T00:00:00\", \"temp\": 36.3, \"Flujo\": \"f\", \"cycle\": 2, \"cycle_day\": 14}, {\"date\": \"2024-01-02T00:00:00\", \"temp\": 36.0, \"Flujo\": \"f\", \"cycle\": 1, \"cycle_day\": 14}, {\"date\": \"2024-01-03T00:00:00\", \"temp\": 36.15, \"Flujo\": \"f\", \"cycle\": 1, \"cycle_day\": 15}, {\"date\": \"2024-03-06T00:00:00\", \"temp\": 36.4, \"Flujo\": \"N\", \"cycle\": 3, \"cycle_day\": 15}, {\"date\": \"2024-02-07T00:00:00\", \"temp\": 36.35, \"Flujo\": \"f\", \"cycle\": 2, \"cycle_day\": 15}, {\"date\": \"2024-02-08T00:00:00\", \"temp\": 36.5, \"Flujo\": \"N\", \"cycle\": 2, \"cycle_day\": 16}, {\"date\": \"2024-03-07T00:00:00\", \"temp\": 36.6, \"Flujo\": \"N\", \"cycle\": 3, \"cycle_day\": 16}, {\"date\": \"2024-01-04T00:00:00\", \"temp\": 36.0, \"Flujo\": \"F\", \"cycle\": 1, \"cycle_day\": 16}, {\"date\": \"2024-01-05T00:00:00\", \"temp\": 36.15, \"Flujo\": \"F\", \"cycle\": 1, \"cycle_day\": 17}, {\"date\": \"2024-03-08T00:00:00\", \"temp\": 36.7, \"Flujo\": \"N\", \"cycle\": 3, \"cycle_day\": 17}, {\"date\": \"2024-02-09T00:00:00\", \"temp\": 36.7, \"Flujo\": \"N\", \"cycle\": 2, \"cycle_day\": 17}, {\"date\": \"2024-03-09T00:00:00\", \"temp\": 36.52, \"Flujo\": \"N\", \"cycle\": 3, \"cycle_day\": 18}, {\"date\": \"2024-01-06T00:00:00\", \"temp\": 36.2, \"Flujo\": \"F\", \"cycle\": 1, \"cycle_day\": 18}, {\"date\": \"2024-02-10T00:00:00\", \"temp\": 36.55, \"Flujo\": \"N\", \"cycle\": 2, \"cycle_day\": 18}, {\"date\": \"2024-03-10T00:00:00\", \"temp\": 36.66, \"Flujo\": \"N\", \"cycle\": 3, \"cycle_day\": 19}, {\"date\": \"2024-01-07T00:00:00\", \"temp\": 36.0, \"Flujo\": \"f\", \"cycle\": 1, \"cycle_day\": 19}, {\"date\": \"2024-02-11T00:00:00\", \"temp\": 36.0, \"Flujo\": \"N\", \"cycle\": 2, \"cycle_day\": 19}, {\"date\": \"2024-01-08T00:00:00\", \"temp\": 36.3, \"Flujo\": \"N\", \"cycle\": 1, \"cycle_day\": 20}, {\"date\": \"2024-02-12T00:00:00\", \"temp\": 36.4, \"Flujo\": \"N\", \"cycle\": 2, \"cycle_day\": 20}, {\"date\": \"2024-01-09T00:00:00\", \"temp\": 36.5, \"Flujo\": \"N\", \"cycle\": 1, \"cycle_day\": 21}, {\"date\": \"2024-02-13T00:00:00\", \"temp\": 36.45, \"Flujo\": \"N\", \"cycle\": 2, \"cycle_day\": 21}, {\"date\": \"2024-02-14T00:00:00\", \"temp\": 36.6, \"Flujo\": \"N\", \"cycle\": 2, \"cycle_day\": 22}, {\"date\": \"2024-01-10T00:00:00\", \"temp\": 36.45, \"Flujo\": \"N\", \"cycle\": 1, \"cycle_day\": 22}, {\"date\": \"2024-02-15T00:00:00\", \"temp\": 36.7, \"Flujo\": \"N\", \"cycle\": 2, \"cycle_day\": 23}, {\"date\": \"2024-01-11T00:00:00\", \"temp\": 36.65, \"Flujo\": \"N\", \"cycle\": 1, \"cycle_day\": 23}, {\"date\": \"2024-02-16T00:00:00\", \"temp\": 36.55, \"Flujo\": \"N\", \"cycle\": 2, \"cycle_day\": 24}, {\"date\": \"2024-01-12T00:00:00\", \"temp\": 36.65, \"Flujo\": \"N\", \"cycle\": 1, \"cycle_day\": 24}, {\"date\": \"2024-02-17T00:00:00\", \"temp\": 36.8, \"Flujo\": \"N\", \"cycle\": 2, \"cycle_day\": 25}, {\"date\": \"2024-01-13T00:00:00\", \"temp\": 36.7, \"Flujo\": \"N\", \"cycle\": 1, \"cycle_day\": 25}, {\"date\": \"2024-02-18T00:00:00\", \"temp\": 36.7, \"Flujo\": \"N\", \"cycle\": 2, \"cycle_day\": 26}, {\"date\": \"2024-01-14T00:00:00\", \"temp\": 36.6, \"Flujo\": \"N\", \"cycle\": 1, \"cycle_day\": 26}, {\"date\": \"2024-01-15T00:00:00\", \"temp\": 36.7, \"Flujo\": \"N\", \"cycle\": 1, \"cycle_day\": 27}, {\"date\": \"2024-02-19T00:00:00\", \"temp\": 36.65, \"Flujo\": \"N\", \"cycle\": 2, \"cycle_day\": 27}, {\"date\": \"2024-01-16T00:00:00\", \"temp\": 36.9, \"Flujo\": \"N\", \"cycle\": 1, \"cycle_day\": 28}, {\"date\": \"2024-02-20T00:00:00\", \"temp\": 36.3, \"Flujo\": \"N\", \"cycle\": 2, \"cycle_day\": 28}, {\"date\": \"2024-01-17T00:00:00\", \"temp\": 36.6, \"Flujo\": \"N\", \"cycle\": 1, \"cycle_day\": 29}, {\"date\": \"2024-01-18T00:00:00\", \"temp\": 36.7, \"Flujo\": \"N\", \"cycle\": 1, \"cycle_day\": 30}, {\"date\": \"2024-01-19T00:00:00\", \"temp\": 36.7, \"Flujo\": \"N\", \"cycle\": 1, \"cycle_day\": 31}, {\"date\": \"2024-01-20T00:00:00\", \"temp\": 36.6, \"Flujo\": \"N\", \"cycle\": 1, \"cycle_day\": 32}, {\"date\": \"2024-01-21T00:00:00\", \"temp\": 36.5, \"Flujo\": \"N\", \"cycle\": 1, \"cycle_day\": 33}, {\"date\": \"2024-01-22T00:00:00\", \"temp\": 36.6, \"Flujo\": \"N\", \"cycle\": 1, \"cycle_day\": 34}, {\"date\": \"2024-01-23T00:00:00\", \"temp\": 36.2, \"Flujo\": \"N\", \"cycle\": 1, \"cycle_day\": 35}]}}, {\"mode\": \"vega-lite\"});\n",
       "</script>"
      ],
      "text/plain": [
       "alt.Chart(...)"
      ]
     },
     "execution_count": 10,
     "metadata": {},
     "output_type": "execute_result"
    }
   ],
   "source": [
    "df.sort_values(by='cycle_day', inplace=True)\n",
    "\n",
    "# Create a sorted DataFrame for the color encoding\n",
    "sorted_df = df.sort_values(by='temp', ascending=False)\n",
    "\n",
    "alt.Chart(df).mark_bar().encode(\n",
    "    alt.X('cycle_day:Q', sort=alt.EncodingSortField(field='cycle_day', order='descending')).title('day'),\n",
    "    alt.Y('cycle:O').title('month'),\n",
    "    alt.Color('temp:Q', scale=alt.Scale(scheme='reds')).title('Temperature (F)'),\n",
    "    tooltip=['cycle', 'cycle_day']\n",
    ").properties(\n",
    "    title=\"2010 Daily High Temperatures in Seattle (F)\"\n",
    ")"
   ]
  },
  {
   "cell_type": "code",
   "execution_count": null,
   "metadata": {},
   "outputs": [],
   "source": []
  }
 ],
 "metadata": {
  "kernelspec": {
   "display_name": "base",
   "language": "python",
   "name": "python3"
  },
  "language_info": {
   "codemirror_mode": {
    "name": "ipython",
    "version": 3
   },
   "file_extension": ".py",
   "mimetype": "text/x-python",
   "name": "python",
   "nbconvert_exporter": "python",
   "pygments_lexer": "ipython3",
   "version": "3.9.0"
  }
 },
 "nbformat": 4,
 "nbformat_minor": 2
}
